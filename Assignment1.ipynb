{
  "nbformat": 4,
  "nbformat_minor": 0,
  "metadata": {
    "colab": {
      "provenance": [],
      "toc_visible": true
    },
    "kernelspec": {
      "name": "python3",
      "display_name": "Python 3"
    },
    "language_info": {
      "name": "python"
    }
  },
  "cells": [
    {
      "cell_type": "code",
      "execution_count": 1,
      "metadata": {
        "id": "elCu0LQfVxkV"
      },
      "outputs": [],
      "source": [
        "import pandas as pd\n",
        "import numpy as np"
      ]
    },
    {
      "cell_type": "code",
      "source": [
        "df=pd.read_csv('house rice india csv.zip')"
      ],
      "metadata": {
        "id": "QkqAteUVV9Sf"
      },
      "execution_count": 2,
      "outputs": []
    },
    {
      "cell_type": "code",
      "source": [
        "df"
      ],
      "metadata": {
        "id": "nwnbd1asOzi0"
      },
      "execution_count": null,
      "outputs": []
    },
    {
      "cell_type": "code",
      "source": [
        "df.dtypes"
      ],
      "metadata": {
        "id": "Iuv92q80Ozqp"
      },
      "execution_count": null,
      "outputs": []
    },
    {
      "cell_type": "code",
      "source": [
        "from ast import increment_lineno\n",
        "#MATPLOTLIB\n",
        "import matplotlib.pyplot as plt\n",
        "%matplotlib inline\n",
        "#seaborn\n",
        "import seaborn as sns"
      ],
      "metadata": {
        "id": "36VReupvOzy3"
      },
      "execution_count": 8,
      "outputs": []
    },
    {
      "cell_type": "code",
      "source": [
        "plt.scatter(df.index,df['Price'])\n",
        "plt.show()"
      ],
      "metadata": {
        "id": "k6dZ-vjgOz2j"
      },
      "execution_count": null,
      "outputs": []
    },
    {
      "cell_type": "code",
      "source": [
        "sns.scatterplot(x=df.index,y=df['Price'],hue=df['number of floors'])"
      ],
      "metadata": {
        "id": "G5ZJRiIdOz6W"
      },
      "execution_count": null,
      "outputs": []
    },
    {
      "cell_type": "code",
      "source": [
        "plt.figure(figsize=(6,6))\n",
        "plt.title('line plot of Price')\n",
        "plt.xlabel('index',fontsize=20)\n",
        "plt.ylabel('Price',fontsize=20)\n",
        "plt.plot(df.index,df['Price'],markevery=1,marker='d')\n",
        "for name, group in df.groupby('number of floors'):\n",
        "    plt.plot(group.index,group['Price'], label=name,markevery=1,marker='d')\n",
        "plt.legend()\n",
        "plt.show()"
      ],
      "metadata": {
        "id": "3UW2h0OKOz9m"
      },
      "execution_count": null,
      "outputs": []
    },
    {
      "cell_type": "code",
      "source": [
        "sns.stripplot(x=df['number of floors'],y=df['Price'])"
      ],
      "metadata": {
        "id": "QrbdLuqpO0A4"
      },
      "execution_count": null,
      "outputs": []
    },
    {
      "cell_type": "code",
      "source": [
        "plt.hist(df['Price'])"
      ],
      "metadata": {
        "id": "OPhvkVpWO0EI"
      },
      "execution_count": null,
      "outputs": []
    },
    {
      "cell_type": "code",
      "source": [
        "plt.figure(figsize=(5,5))\n",
        "df['Price'].plot(kind='density')"
      ],
      "metadata": {
        "id": "KP2xdM8AO0G5"
      },
      "execution_count": null,
      "outputs": []
    },
    {
      "cell_type": "code",
      "source": [
        "plt.boxplot(df['Price'])"
      ],
      "metadata": {
        "id": "1doPo6mLO0KA"
      },
      "execution_count": null,
      "outputs": []
    },
    {
      "cell_type": "code",
      "source": [
        "df['Price'].value_counts().plot.bar()"
      ],
      "metadata": {
        "id": "7Q-z8o2WO0NP"
      },
      "execution_count": null,
      "outputs": []
    },
    {
      "cell_type": "markdown",
      "source": [
        "# New Section"
      ],
      "metadata": {
        "id": "iJkTiJmlQMLB"
      }
    },
    {
      "cell_type": "code",
      "source": [
        "import numpy as np\n",
        "import pandas as pd\n",
        "import matplotlib.pyplot as plt\n",
        "%matplotlib inline\n",
        "import seaborn as sns\n",
        "import math"
      ],
      "metadata": {
        "id": "ealBPy9qO0Ty"
      },
      "execution_count": 16,
      "outputs": []
    },
    {
      "cell_type": "code",
      "source": [
        "df=pd.read_csv('house rice india csv.zip')\n"
      ],
      "metadata": {
        "id": "icD5JVDvO0XB"
      },
      "execution_count": 17,
      "outputs": []
    },
    {
      "cell_type": "code",
      "source": [
        "df"
      ],
      "metadata": {
        "id": "B-_uq65HO0aC"
      },
      "execution_count": null,
      "outputs": []
    },
    {
      "cell_type": "code",
      "source": [
        "x=df['Lattitude']\n",
        "y=df['Longitude']\n",
        "data=df['Price']"
      ],
      "metadata": {
        "id": "dewknYiYO0d1"
      },
      "execution_count": 19,
      "outputs": []
    },
    {
      "cell_type": "code",
      "source": [
        "x=df['Lattitude']\n",
        "y=df['Longitude']\n",
        "data=df['Price']"
      ],
      "metadata": {
        "id": "R2-hleB0O0jK"
      },
      "execution_count": 20,
      "outputs": []
    },
    {
      "cell_type": "code",
      "source": [
        "sns.scatterplot(data=df, x = 'Lattitude', y ='Longitude', linewidth=0); \n",
        "# We set the linewidth to 0, otherwise the lines around the circles\n",
        "# appear white and wash out the figure. Try with any positive \n",
        "# value of linewidth "
      ],
      "metadata": {
        "id": "pWCzXL4jQoyH"
      },
      "execution_count": null,
      "outputs": []
    },
    {
      "cell_type": "code",
      "source": [
        "sns.regplot(data = df, x = 'Lattitude', y = 'Longitude', fit_reg=False);\n",
        "plt.show()"
      ],
      "metadata": {
        "id": "18B7W8NHQovI"
      },
      "execution_count": null,
      "outputs": []
    },
    {
      "cell_type": "code",
      "source": [
        "sns.jointplot(data = df, x = 'Lattitude', y = 'Longitude');\n",
        "plt.show() \n"
      ],
      "metadata": {
        "id": "3pTJXEttQor-"
      },
      "execution_count": null,
      "outputs": []
    },
    {
      "cell_type": "code",
      "source": [
        "sns.jointplot(data = df, x = 'Lattitude', y = 'Longitude', kind = 'reg');\n",
        "plt.show() \n"
      ],
      "metadata": {
        "id": "OobqTZbqQooy"
      },
      "execution_count": null,
      "outputs": []
    },
    {
      "cell_type": "code",
      "source": [
        "sns.jointplot(data = df, x = 'Lattitude', y = 'Longitude', kind = 'hex');\n",
        "plt.show() "
      ],
      "metadata": {
        "id": "UCtcGrTdQolc"
      },
      "execution_count": null,
      "outputs": []
    },
    {
      "cell_type": "markdown",
      "source": [
        "# New Section"
      ],
      "metadata": {
        "id": "Gb0uz9NWRAf-"
      }
    },
    {
      "cell_type": "code",
      "source": [
        "import numpy as np\n",
        "import pandas as pd\n",
        "import matplotlib.pyplot as plt\n",
        "%matplotlib inline\n",
        "import seaborn as sns\n",
        "import math"
      ],
      "metadata": {
        "id": "P8usaR5dQobM"
      },
      "execution_count": 26,
      "outputs": []
    },
    {
      "cell_type": "code",
      "source": [
        "df=pd.read_csv('house rice india csv.zip')\n"
      ],
      "metadata": {
        "id": "-31rpPG_RDPN"
      },
      "execution_count": 27,
      "outputs": []
    },
    {
      "cell_type": "code",
      "source": [
        "df"
      ],
      "metadata": {
        "id": "Fzh5hzXTRDJX"
      },
      "execution_count": null,
      "outputs": []
    },
    {
      "cell_type": "code",
      "source": [
        "x=df['Lattitude']\n",
        "y=df['Longitude']\n",
        "data=df['Price']"
      ],
      "metadata": {
        "id": "S7KGPS3gRDGX"
      },
      "execution_count": 29,
      "outputs": []
    },
    {
      "cell_type": "code",
      "source": [
        "sns.pairplot(df)"
      ],
      "metadata": {
        "id": "Ydl2Ubl9RDDW"
      },
      "execution_count": null,
      "outputs": []
    },
    {
      "cell_type": "markdown",
      "source": [
        "# New Section"
      ],
      "metadata": {
        "id": "upoUiUckRb9P"
      }
    },
    {
      "cell_type": "code",
      "source": [
        "# import the \n",
        "import pandas as pd\n",
        "from matplotlib import cm\n",
        "import numpy as np\n",
        "import matplotlib.pyplot as plt\n",
        "import matplotlib.patches as patches\n",
        "import matplotlib.path as path\n",
        "import matplotlib.ticker as ticker\n",
        "import matplotlib.animation as animation\n",
        "import pandas as pd\n",
        "from mpl_toolkits.axes_grid1 import make_axes_locatable"
      ],
      "metadata": {
        "id": "5_zyIWP8RC2W"
      },
      "execution_count": 31,
      "outputs": []
    },
    {
      "cell_type": "code",
      "source": [
        "df=pd.read_csv('house rice india csv.zip')"
      ],
      "metadata": {
        "id": "8jMkdFp3RCwE"
      },
      "execution_count": 32,
      "outputs": []
    },
    {
      "cell_type": "code",
      "source": [
        "df"
      ],
      "metadata": {
        "id": "WChSTjCARCsi"
      },
      "execution_count": null,
      "outputs": []
    },
    {
      "cell_type": "code",
      "source": [
        "x=df['Lattitude']\n",
        "y=df['Longitude']\n",
        "data=df['Price']"
      ],
      "metadata": {
        "id": "UX_7_Y-CRCoj"
      },
      "execution_count": 34,
      "outputs": []
    },
    {
      "cell_type": "code",
      "source": [
        "# Get numerical and categorical columns\n",
        "total_columns = df.columns\n",
        "num_col = df._get_numeric_data().columns\n",
        "cat_col = list(set(total_columns)-set(num_col))\n"
      ],
      "metadata": {
        "id": "-I_w1y46RlOE"
      },
      "execution_count": 35,
      "outputs": []
    },
    {
      "cell_type": "code",
      "source": [
        "# find categorical columns category and their counts\n",
        "for i in cat_col:\n",
        "    print(i)\n",
        "    print(df[i].value_counts())"
      ],
      "metadata": {
        "id": "aGpK_3X9RlLN"
      },
      "execution_count": 36,
      "outputs": []
    },
    {
      "cell_type": "code",
      "source": [
        "# Plot graph for Item_Type category\n",
        "index = np.arange(6)\n",
        "fig, ax = plt.subplots(figsize=(15, 8))\n",
        "list1x = list(dict(df['Price'].value_counts()).keys())\n",
        "list1y = list(df['Price'].value_counts())\n",
        "ax.barh(list1x, list1y, alpha=0.7,\n",
        "         # width = 0.5,\n",
        "        color=cm.Blues([i / 0.00525 for i in [ 0.00208, 0.00235, 0.00281, 0.00317, 0.00362, 0.00371, 0.00525, 0.00679, 0.00761, 0.00833]])\n",
        "        )\n",
        "plt.rcParams.update({'font.size': 10})\n",
        "rects = ax.patches\n",
        "for i, label in enumerate(list1y):\n",
        "    ax.text(label , i, str(label), size=10, ha='left', va='center')\n",
        "\n",
        "ax.text(0, 1.02, 'Item_Type house rice india Count', transform=ax.transAxes, size=12, weight=600, color='#777777')\n",
        "ax.xaxis.set_ticks_position('bottom')\n",
        "ax.tick_params(axis='x', colors='black', labelsize=9)\n",
        "ax.set_axisbelow(True)\n",
        "ax.text(0, -0.1, 'Source: https://content/house rice india csv.zip',\n",
        "        transform=ax.transAxes, size=12, weight=600, color='#777777')\n",
        "ax.spines['right'].set_visible(False)\n",
        "ax.spines['top'].set_visible(False)\n",
        "plt.show()"
      ],
      "metadata": {
        "id": "v3eUd2qlRlIW"
      },
      "execution_count": null,
      "outputs": []
    },
    {
      "cell_type": "code",
      "source": [
        "print(df[['Lattitude','Longitude']].groupby(['Lattitude']).agg({'Longitude':'mean'}))"
      ],
      "metadata": {
        "id": "6ENqjKZURlFq"
      },
      "execution_count": null,
      "outputs": []
    },
    {
      "cell_type": "code",
      "source": [
        "print(df[['Lattitude','Longitude']].groupby(['Lattitude']).agg({'Longitude':'median'}))"
      ],
      "metadata": {
        "id": "TfgBIq28RlB8"
      },
      "execution_count": null,
      "outputs": []
    },
    {
      "cell_type": "code",
      "source": [
        "print(df[['Lattitude','Longitude']].groupby(['Longitude']).agg(lambda x:x.value_counts().index[0]))"
      ],
      "metadata": {
        "id": "Cb9-fs8tRk8q"
      },
      "execution_count": null,
      "outputs": []
    },
    {
      "cell_type": "code",
      "source": [
        "for i in num_col:\n",
        "    print(f\"Column: {i} Max_Value: {max(df[i])} Min_Value: {min(df[i])} Range: {round(max(df[i]) - min(df[i]),2)}\")"
      ],
      "metadata": {
        "id": "Oppo-U-jRk5L"
      },
      "execution_count": null,
      "outputs": []
    },
    {
      "cell_type": "code",
      "source": [
        "for i in num_col:\n",
        "    print(i , round(df[i].std(),2))"
      ],
      "metadata": {
        "id": "ROx4z94sSFUk"
      },
      "execution_count": null,
      "outputs": []
    },
    {
      "cell_type": "code",
      "source": [
        "for i in num_col:\n",
        "    print(i , round(df[i].var(),2))"
      ],
      "metadata": {
        "id": "qyI2q1V2SFRe"
      },
      "execution_count": null,
      "outputs": []
    },
    {
      "cell_type": "code",
      "source": [
        "df.skew()"
      ],
      "metadata": {
        "id": "c3W-VaUnSFN3"
      },
      "execution_count": null,
      "outputs": []
    },
    {
      "cell_type": "markdown",
      "source": [
        "# New Section"
      ],
      "metadata": {
        "id": "-jEt6M4rSP3-"
      }
    },
    {
      "cell_type": "code",
      "source": [
        "#Find the total number of missing values from the entire dataset\n",
        "df.isnull().sum().sum() \n"
      ],
      "metadata": {
        "id": "GWiETgA4SFFc"
      },
      "execution_count": null,
      "outputs": []
    },
    {
      "cell_type": "code",
      "source": [
        "df = df.dropna(axis=0)\n",
        "df.isnull().sum()"
      ],
      "metadata": {
        "id": "ZSZffdRUSFAW"
      },
      "execution_count": null,
      "outputs": []
    },
    {
      "cell_type": "code",
      "source": [
        "df = df.drop(['Price'],axis=1)\n",
        "df.isnull().sum()"
      ],
      "metadata": {
        "id": "bU_mVKqjSXye"
      },
      "execution_count": null,
      "outputs": []
    },
    {
      "cell_type": "code",
      "source": [
        "import pandas as pd\n",
        "import numpy as np\n",
        "test = pd.Series(range(6))\n",
        "test.loc[2:4] = np.nan\n",
        "test"
      ],
      "metadata": {
        "id": "Xhx9WSwtSXsi"
      },
      "execution_count": null,
      "outputs": []
    },
    {
      "cell_type": "code",
      "source": [
        "# Forward-Fill\n",
        "test.fillna(method='ffill')"
      ],
      "metadata": {
        "id": "rWvw1oemSXpc"
      },
      "execution_count": null,
      "outputs": []
    },
    {
      "cell_type": "code",
      "source": [
        "# Backward-Fill\n",
        "test.fillna(method='bfill')"
      ],
      "metadata": {
        "id": "LQtJhABjSXlt"
      },
      "execution_count": null,
      "outputs": []
    },
    {
      "cell_type": "code",
      "source": [
        "test.interpolate()"
      ],
      "metadata": {
        "id": "z0EpEX8zSgRW"
      },
      "execution_count": null,
      "outputs": []
    },
    {
      "cell_type": "code",
      "source": [
        "import pandas as pd\n",
        "import numpy as np\n",
        "X = pd.DataFrame({'Shape':['square', 'square', 'oval', 'circle', np.nan]})\n"
      ],
      "metadata": {
        "id": "8J6sQNWJSgMG"
      },
      "execution_count": 52,
      "outputs": []
    },
    {
      "cell_type": "code",
      "source": [
        "from sklearn.impute import SimpleImputer\n",
        "imputer = SimpleImputer(strategy='most_frequent')\n",
        "imputer.fit_transform(X)"
      ],
      "metadata": {
        "id": "lM7BJHB1SgIc"
      },
      "execution_count": null,
      "outputs": []
    },
    {
      "cell_type": "code",
      "source": [
        "imputer = SimpleImputer(strategy='constant', fill_value='missing')\n",
        "imputer.fit_transform(X)"
      ],
      "metadata": {
        "id": "_Lk4_s5RSuNu"
      },
      "execution_count": null,
      "outputs": []
    },
    {
      "cell_type": "code",
      "source": [
        "import numpy as np\n",
        "from sklearn.impute import SimpleImputer\n",
        "imp = SimpleImputer(missing_values=np.nan, strategy='mean')\n",
        "imp.fit([[1, 2], [np.nan, 3], [7, 6]])"
      ],
      "metadata": {
        "id": "DTyijySmSuLI"
      },
      "execution_count": null,
      "outputs": []
    },
    {
      "cell_type": "code",
      "source": [
        "X = [[np.nan, 2], [6, np.nan], [7, 6]]\n",
        "print(imp.transform(X))"
      ],
      "metadata": {
        "id": "hdNW0rQkSuFW"
      },
      "execution_count": null,
      "outputs": []
    },
    {
      "cell_type": "code",
      "source": [
        "from sklearn.experimental import enable_iterative_imputer\n",
        "from sklearn.impute import IterativeImputer\n",
        "impute_it = IterativeImputer()\n",
        "impute_it.fit_transform(X)"
      ],
      "metadata": {
        "id": "6moqrAQ5SuB9"
      },
      "execution_count": null,
      "outputs": []
    },
    {
      "cell_type": "code",
      "source": [
        "from sklearn.impute import KNNImputer\n",
        "impute_knn = KNNImputer(n_neighbors=2)\n",
        "impute_knn.fit_transform(X)"
      ],
      "metadata": {
        "id": "MsrKd3ivSt-o"
      },
      "execution_count": null,
      "outputs": []
    },
    {
      "cell_type": "code",
      "source": [],
      "metadata": {
        "id": "ckF4-mMSSt6_"
      },
      "execution_count": null,
      "outputs": []
    },
    {
      "cell_type": "code",
      "source": [],
      "metadata": {
        "id": "p7i4L7MdSt20"
      },
      "execution_count": null,
      "outputs": []
    }
  ]
}